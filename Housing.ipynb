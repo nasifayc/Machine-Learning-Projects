{
 "cells": [
  {
   "cell_type": "code",
   "execution_count": 101,
   "id": "b23e2ab2-55f2-4f3d-8248-8d25a696fdef",
   "metadata": {},
   "outputs": [],
   "source": [
    "import os \n",
    "import tarfile\n",
    "import urllib\n",
    "\n",
    "DOWNLOAD_ROOT = \"https://raw.githubusercontent.com/ageron/handson-ml2/master/\"\n",
    "HOUSING_PATH = os.path.join(\"datasets\", \"housing\")\n",
    "HOUSING_URL = DOWNLOAD_ROOT +  \"datasets/housing/housing.tgz\"\n",
    "\n",
    "# a function to fetch the data\n",
    "def fetch_housing_data(housing_url=HOUSING_URL, housing_path=HOUSING_PATH):\n",
    "    os.makedirs(housing_path, exist_ok=True)\n",
    "    tgz_path = os.path.join(housing_path, \"housing.tgz\")\n",
    "    urllib.request.urlretrieve(housing_url, tgz_path)\n",
    "    housing_tgz = tarfile.open(tgz_path)\n",
    "    housing_tgz.extractall(path=housing_path)\n",
    "    housing_tgz.close()"
   ]
  },
  {
   "cell_type": "code",
   "execution_count": 80,
   "id": "d65a2099-6ace-41c7-8cec-445b805f6603",
   "metadata": {},
   "outputs": [],
   "source": [
    "import pandas as pd\n",
    "\n",
    "# Loading Housing Data\n",
    "def load_housing_data(housing_path=HOUSING_PATH):\n",
    "    csv_path = os.path.join(housing_path, \"housing.csv\")\n",
    "    return pd.read_csv(csv_path)"
   ]
  },
  {
   "cell_type": "code",
   "execution_count": 104,
   "id": "bdc85de8-4e4f-4053-ac16-140e6d3778ee",
   "metadata": {},
   "outputs": [],
   "source": [
    "housing = load_housing_data()\n",
    "\n",
    "# general info about the data\n",
    "# general_info = housing.info()\n",
    "\n",
    "\n",
    "# getting first few elements\n",
    "head = housing.head()\n",
    "# print(head)\n",
    "\n",
    "\n",
    "# print(housing[\"ocean_proximity\"].value_counts())\n",
    "\n",
    "# summary of each numerical attribute\n",
    "# housing.describe()"
   ]
  },
  {
   "cell_type": "code",
   "execution_count": 107,
   "id": "e22421ee-4159-4de1-ae0b-d6c33e8a2b5e",
   "metadata": {},
   "outputs": [],
   "source": [
    "%matplotlib inline\n",
    "import matplotlib.pyplot as plt\n",
    "\n",
    "\n",
    "# we can plot a histogram for each numerical attribute\n",
    "# housing.hist(bins=50, figsize=(20,15))\n",
    "# plt.show()"
   ]
  },
  {
   "cell_type": "code",
   "execution_count": 116,
   "id": "b414bfe4-3f7c-4560-ac4a-26dac9848c05",
   "metadata": {},
   "outputs": [],
   "source": [
    "import numpy as np\n",
    "\n",
    "# creating a test set\n",
    "# def split_train_test(data, test_ratio):\n",
    "#     shuffled_indices = np.random.permutation(len(data))\n",
    "#     test_set_size = int(len(data) * test_ratio)\n",
    "#     test_indices = shuffled_indices[: test_set_size]\n",
    "#     train_indices = shuffled_indices[test_set_size:]\n",
    "#     return data.iloc[train_indices], data.iloc[test_indices]\n",
    "\n",
    "\n",
    "# train_set, test_set = split_train_test(housing, 0.2)\n",
    "\n",
    "# print(f\"Train Set shape: {len(train_set)}\") #16512\n",
    "# print(f\"Test Set shape: {len(test_set)}\") #4128"
   ]
  },
  {
   "cell_type": "code",
   "execution_count": 119,
   "id": "e3e02a3e-650d-4d6e-a88f-c5d3d9dc001b",
   "metadata": {},
   "outputs": [
    {
     "name": "stdout",
     "output_type": "stream",
     "text": [
      "Train Set shape: 16512\n",
      "Test Set shape: 4128\n"
     ]
    }
   ],
   "source": [
    "# from sklearn.model_selection import train_test_split\n",
    "# train_set, test_set = train_test_split(housing, test_size = 0.2, random_state=42)\n",
    "\n",
    "print(f\"Train Set shape: {len(train_set)}\") #16512\n",
    "print(f\"Test Set shape: {len(test_set)}\") #4128"
   ]
  },
  {
   "cell_type": "code",
   "execution_count": null,
   "id": "2c574703-44e8-48e5-aad8-48ceeac71793",
   "metadata": {},
   "outputs": [],
   "source": []
  }
 ],
 "metadata": {
  "kernelspec": {
   "display_name": "Python 3 (ipykernel)",
   "language": "python",
   "name": "python3"
  },
  "language_info": {
   "codemirror_mode": {
    "name": "ipython",
    "version": 3
   },
   "file_extension": ".py",
   "mimetype": "text/x-python",
   "name": "python",
   "nbconvert_exporter": "python",
   "pygments_lexer": "ipython3",
   "version": "3.12.3"
  }
 },
 "nbformat": 4,
 "nbformat_minor": 5
}
